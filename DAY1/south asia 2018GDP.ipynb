{
 "cells": [
  {
   "cell_type": "markdown",
   "metadata": {},
   "source": [
    "題目: 2018南亞各國GDP與人口總數　作者:aphidy　\n",
    "資料來源:https://data.worldbank.org/indicator/SP.POP.TOTL?locations=8S-BD&most_recent_year_desc=true"
   ]
  },
  {
   "cell_type": "code",
   "execution_count": 28,
   "metadata": {
    "scrolled": false
   },
   "outputs": [
    {
     "data": {
      "text/html": [
       "<div>\n",
       "<style scoped>\n",
       "    .dataframe tbody tr th:only-of-type {\n",
       "        vertical-align: middle;\n",
       "    }\n",
       "\n",
       "    .dataframe tbody tr th {\n",
       "        vertical-align: top;\n",
       "    }\n",
       "\n",
       "    .dataframe thead th {\n",
       "        text-align: right;\n",
       "    }\n",
       "</style>\n",
       "<table border=\"1\" class=\"dataframe\">\n",
       "  <thead>\n",
       "    <tr style=\"text-align: right;\">\n",
       "      <th></th>\n",
       "      <th>Country</th>\n",
       "      <th>Year</th>\n",
       "      <th>GDP</th>\n",
       "      <th>population</th>\n",
       "    </tr>\n",
       "  </thead>\n",
       "  <tbody>\n",
       "    <tr>\n",
       "      <td>0</td>\n",
       "      <td>Bangladesh</td>\n",
       "      <td>2018</td>\n",
       "      <td>7.9</td>\n",
       "      <td>161,356.04</td>\n",
       "    </tr>\n",
       "    <tr>\n",
       "      <td>1</td>\n",
       "      <td>India</td>\n",
       "      <td>2018</td>\n",
       "      <td>7.0</td>\n",
       "      <td>1,352,617.33</td>\n",
       "    </tr>\n",
       "    <tr>\n",
       "      <td>2</td>\n",
       "      <td>Nepal</td>\n",
       "      <td>2018</td>\n",
       "      <td>6.3</td>\n",
       "      <td>28,087.87</td>\n",
       "    </tr>\n",
       "    <tr>\n",
       "      <td>3</td>\n",
       "      <td>Maldives</td>\n",
       "      <td>2018</td>\n",
       "      <td>6.1</td>\n",
       "      <td>515.7</td>\n",
       "    </tr>\n",
       "    <tr>\n",
       "      <td>4</td>\n",
       "      <td>Pakistan</td>\n",
       "      <td>2018</td>\n",
       "      <td>5.4</td>\n",
       "      <td>212,215.03</td>\n",
       "    </tr>\n",
       "    <tr>\n",
       "      <td>5</td>\n",
       "      <td>Sri Lanka</td>\n",
       "      <td>2018</td>\n",
       "      <td>3.2</td>\n",
       "      <td>21,670.00</td>\n",
       "    </tr>\n",
       "    <tr>\n",
       "      <td>6</td>\n",
       "      <td>Bhutan</td>\n",
       "      <td>2018</td>\n",
       "      <td>2.3</td>\n",
       "      <td>754.39</td>\n",
       "    </tr>\n",
       "    <tr>\n",
       "      <td>7</td>\n",
       "      <td>Afghanistan</td>\n",
       "      <td>2018</td>\n",
       "      <td>1.0</td>\n",
       "      <td>37,172.39</td>\n",
       "    </tr>\n",
       "  </tbody>\n",
       "</table>\n",
       "</div>"
      ],
      "text/plain": [
       "       Country   Year  GDP    population\n",
       "0   Bangladesh   2018  7.9    161,356.04\n",
       "1        India   2018  7.0  1,352,617.33\n",
       "2        Nepal   2018  6.3     28,087.87\n",
       "3     Maldives   2018  6.1         515.7\n",
       "4     Pakistan   2018  5.4    212,215.03\n",
       "5    Sri Lanka   2018  3.2     21,670.00\n",
       "6       Bhutan   2018  2.3        754.39\n",
       "7  Afghanistan   2018  1.0     37,172.39"
      ]
     },
     "execution_count": 28,
     "metadata": {},
     "output_type": "execute_result"
    }
   ],
   "source": [
    "%matplotlib inline\n",
    "import matplotlib.pyplot as plt\n",
    "import pandas as pd\n",
    "import numpy as np\n",
    "\n",
    "# This is a custom matplotlib style that I use for most of my charts\n",
    "# plt.style.use('tableau10.mplstyle')\n",
    "\n",
    "child_data = pd.read_csv('south asia 2018GDP.csv')\n",
    "child_data.head(8)"
   ]
  },
  {
   "cell_type": "markdown",
   "metadata": {},
   "source": [
    "2018南亞地區各國GDP"
   ]
  },
  {
   "cell_type": "code",
   "execution_count": 26,
   "metadata": {
    "scrolled": true
   },
   "outputs": [
    {
     "data": {
      "image/png": "[encoded data removed]",
      "text/plain": [
       "<Figure size 1080x360 with 1 Axes>"
      ]
     },
     "metadata": {
      "needs_background": "light"
     },
     "output_type": "display_data"
    }
   ],
   "source": [
    "fig = plt.figure(figsize=(15, 5))\n",
    "ax1 = fig.add_subplot(111)\n",
    "\n",
    "for (i, row) in child_data.iterrows():\n",
    "    plt.bar([i], [row['GDP']],\n",
    "            color=['#CC9999'], width=0.5, align='center', edgecolor='NONE')\n",
    "    \n",
    "#plt.xlim(-0.6, 20.6)\n",
    "#plt.ylim(-12.1e6, 12.1e6)\n",
    "#plt.grid(False, axis='x')\n",
    "plt.xticks(np.arange(0, 9), child_data['Country'], fontsize=11)\n",
    "#plt.yticks(np.arange(-12e6, 13e6, 2e6),\n",
    "#           ['{}m'.format(int(abs(x) / 1e6)) if x != 0 else 0 for x in np.arange(-12e6, 13e6, 2e6)])\n",
    "plt.xlabel('Country')\n",
    "plt.ylabel('GDP')\n",
    "\n",
    "plt.savefig('pop_pyramid_rotated.pdf')"
   ]
  },
  {
   "cell_type": "code",
   "execution_count": 18,
   "metadata": {},
   "outputs": [
    {
     "data": {
      "text/plain": [
       "0     Bangladesh\n",
       "1          India\n",
       "2          Nepal\n",
       "3       Maldives\n",
       "4       Pakistan\n",
       "5      Sri Lanka\n",
       "6         Bhutan\n",
       "7    Afghanistan\n",
       "Name: Country, dtype: object"
      ]
     },
     "execution_count": 18,
     "metadata": {},
     "output_type": "execute_result"
    }
   ],
   "source": [
    "# Data to plot\n",
    "labels = child_data['Country']\n",
    "labels"
   ]
  },
  {
   "cell_type": "code",
   "execution_count": 19,
   "metadata": {
    "scrolled": true
   },
   "outputs": [
    {
     "data": {
      "text/plain": [
       "0    7.9\n",
       "1    7.0\n",
       "2    6.3\n",
       "3    6.1\n",
       "4    5.4\n",
       "5    3.2\n",
       "6    2.3\n",
       "7    1.0\n",
       "Name: GDP, dtype: float64"
      ]
     },
     "execution_count": 19,
     "metadata": {},
     "output_type": "execute_result"
    }
   ],
   "source": [
    "sizes = child_data['GDP']\n",
    "sizes"
   ]
  },
  {
   "cell_type": "code",
   "execution_count": 27,
   "metadata": {},
   "outputs": [
    {
     "data": {
      "image/png": "[encoded data removed]",
      "text/plain": [
       "<Figure size 432x288 with 1 Axes>"
      ]
     },
     "metadata": {},
     "output_type": "display_data"
    }
   ],
   "source": [
    "colors = ['gold', 'yellowgreen', 'lightcoral', 'lightskyblue', 'pink', 'yellow', 'red', 'blue']\n",
    "explode = (0.1, 0, 0, 0, 0, 0, 0, 0)  # explode 1st slice\n",
    " \n",
    "# Plot\n",
    "patches, texts, autotexts = plt.pie(sizes, colors = colors, autopct='%1.1f%%', startangle=90)\n",
    "\n",
    "plt.legend(patches, labels, loc=\"best\")\n",
    "plt.axis('equal')\n",
    "plt.tight_layout()\n",
    "plt.show()"
   ]
  },
  {
   "cell_type": "markdown",
   "metadata": {},
   "source": [
    "談討南亞各國國家GDP的關係，要考慮總人口數，GDP最高的國家是孟加拉(Bangladesh)"
   ]
  }
 ],
 "metadata": {
  "kernelspec": {
   "display_name": "Python 3",
   "language": "python",
   "name": "python3"
  },
  "language_info": {
   "codemirror_mode": {
    "name": "ipython",
    "version": 3
   },
   "file_extension": ".py",
   "mimetype": "text/x-python",
   "name": "python",
   "nbconvert_exporter": "python",
   "pygments_lexer": "ipython3",
   "version": "3.7.4"
  }
 },
 "nbformat": 4,
 "nbformat_minor": 2
}
